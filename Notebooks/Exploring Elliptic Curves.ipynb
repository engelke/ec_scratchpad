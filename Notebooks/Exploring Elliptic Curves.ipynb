{
 "cells": [
  {
   "cell_type": "markdown",
   "metadata": {},
   "source": [
    "# Exploring Elliptic Curves\n",
    "\n",
    "In normal plane geometry, an *elliptic curve* is the set of points (x, y) that satisfy the equation\n",
    "\n",
    "    y² = x³ + ax + b\n",
    "   \n",
    "where *a* and *b* are real numbers that define the curve.\n",
    "\n",
    "Here's are examplex of a couple of elliptic curves over the real numbers:\n",
    "\n",
    "![Elliptic curves from WikiMedia commons](https://upload.wikimedia.org/wikipedia/commons/thumb/d/d0/ECClines-3.svg/800px-ECClines-3.svg.png \"Elliptic Curves over the real numbers\")\n",
    "\n",
    "**Elliptic curves aren't ellipses. Ellipses aren't elliptic curves.**\n",
    "\n",
    "The study of elliptic curves evolved over a long time from the study of the lengths of paths in ellipses, but that history doesn't help understanding what we are doing with elliptic curves today."
   ]
  },
  {
   "cell_type": "markdown",
   "metadata": {},
   "source": [
    "# Points on an Elliptic Curve May Form a Group\n",
    "\n",
    "If there are no repeated roots of the defining equation, then an operation (that we'll call addition)\n",
    "can be defined geometrically. There will be repeated roots if and only if:\n",
    "\n",
    "    4a³ + 27b² = 0,\n",
    "    \n",
    "so we will work only with curves where:\n",
    "\n",
    "    4a³ + 27b² ≠ 0.\n",
    "\n",
    "Elliptic curves are obviously symmetric about the x-axis, so if *P* = (x, y) is on the curve, so is its reflection (x, -y). We define the reflection of a point across the x axis as *-P*, the arithmetic inverse of the point *P*.\n",
    "\n",
    "Given two points *P* and *Q* on the curve, draw a line connecting them. If there are no repeated roots, this line will intersect the curve in at most one more point *R*. We define *P* + *Q* to be *-R*.\n",
    "\n",
    "*(Why? Bear with us. This approach leads the points on the curve to form a group over this operation.)*\n",
    "\n",
    "There are cases where we can't use this geometric approach for addition. For example, we can't use it to add *P* and *-P*, because the line through them is vertical and never intersects the curve at any other point. To solve this we define an additional \"point on the curve\" called *infinity* but denoted 𝓞. This point is the arithmetic identity (so I have no idea why it isn't called zero).\n",
    "\n",
    "So, for any point *P*, we have *P* + 𝓞 = *P*, 𝓞 + *P* = *P*, and *P* + *-P* = 𝓞.\n",
    "\n",
    "Finally, we can't add a point to itself (double it) with this geometric approach, because the single point doesn't determine a line. Instead we take a tangent to the curve, which will intersect the curve at a single point *R*. That point's inverse *-R* is defined as *P* + *P*.\n",
    "\n",
    "And if the tangent is vertical (so never intersects the curve at another point)? Then *P* + *P* is defined to be 𝓞.\n",
    "\n",
    "The points on an elliptic curve together with this operation form a group."
   ]
  },
  {
   "cell_type": "markdown",
   "metadata": {},
   "source": [
    "# Group Refresher\n",
    "\n",
    "Some quick background. A **group** is a set **S** combined with an operator **op** such that:\n",
    "\n",
    "- the set is closed over the operator, that is, **e** **op** **f** is another element **g** of the set\n",
    "- there is an identity element **i** such that **i** **op** **e** = **e** = **e** **op** **i** for every element **e** in **S**\n",
    "- every element **e** has an inverse; that is, another element **f** such that **e** **op** **f** = **i** = **f** **op** **e**\n",
    "- the operation is associative: (**e** **op** **f**) **op** **g** = **e** **op** (**f** **op** **g**)\n",
    "\n",
    "Note that the operation does not have to obey the commutive law (**e** **op** **f** == **f** **op** **e**), though if it does, it is called an _abelian_ group.\n",
    "\n",
    "You'll see that the integers with addition form a group, as do positive real numbers with multiplication. Groups show up in all kinds of places, and abstracting them out this way helps study their common properties."
   ]
  },
  {
   "cell_type": "markdown",
   "metadata": {},
   "source": [
    "#### *(What's purple and commutes? An abelian grape.)*"
   ]
  },
  {
   "cell_type": "markdown",
   "metadata": {},
   "source": [
    "# Formulas for Computing Sums\n",
    "\n",
    "We've defined the additive operation in terms of geometry, but analytic geometry can give us formulas that achieve the same result. Warning: the formulas are in no way intuitive, but they can be derived with straightforward high school algebra. We won't do that here, though.\n",
    "\n",
    "Why bother with these formulas? Because in the next step we will move from elliptic curves over real numbers to ones over integers modulo a prime number. At that point, the geometric pictures don't help, but the formulas will still retain the same properties that make points on the curve form a group. So here goes:\n",
    "\n",
    "Let\n",
    "\n",
    "**P** = (x₁, y₁)\n",
    "\n",
    "**Q** = (x₂, y₂) \n",
    "    \n",
    "be points on the elliptic curve defined by \n",
    "\n",
    "    y² = x³ + ax + b where 4a³ + 27b² ≠ 0.\n",
    "   \n",
    "Then calculate **R** = (x₃, y₃) = **P** + **Q** as follows:\n",
    "\n",
    "## Case 1: **P** + **Q** where **P** = **-Q**\n",
    "\n",
    "That is, x₁ = x₂ and y₁ = -y₂. Or where **P** and **Q** are both 𝓞.\n",
    "\n",
    "Then, by definition, their sum is 𝓞 (which does not have a representation as (x, y).\n",
    "\n",
    "## Case 2: **P** + **Q** where **P** ≠ **-Q**\n",
    "\n",
    "That is, x₁ ≠ x₂.\n",
    "\n",
    "Then calculate the slope **s** of the line between **P** and **Q**:\n",
    "\n",
    "    s = (y₂ - y₁)/(x₂ - x₁)\n",
    "    \n",
    "And you'll eventually get to:\n",
    "\n",
    "    x₃ = s² - x₁ - x₂\n",
    "   \n",
    "and\n",
    "\n",
    "    y₃ = -y₁ + s(x₁ - x₃)\n",
    "    \n",
    "## Case 3: **P** + **P** (doubling **P**)\n",
    "\n",
    "Recall that if y₁ = 0, then the tangent to (x₁, y₁) is vertical, and added to itself is 𝓞.\n",
    "\n",
    "Otherwise, calculate\n",
    "\n",
    "    s = (3x₁² + a)/(2y₁)\n",
    "    \n",
    "Then\n",
    "\n",
    "    x₃ = s² - 2x₁\n",
    "    \n",
    "and\n",
    "\n",
    "    y₃ = -y₁ + s(x₁ - x₃)\n"
   ]
  },
  {
   "cell_type": "markdown",
   "metadata": {
    "collapsed": true
   },
   "source": [
    "# Moving Away from Real Numbers\n",
    "\n",
    "Now we're going to use the exact same formulas on ordered pairs (x, y) where x and y are integers between 0 and *p*-1, for any odd prime *p*. Do all the arithmetic modulo *p*, and the points on the resulting curves form a group under the addition operator as defined above.\n",
    "\n",
    "We will explore these curves with some simple examples and Python."
   ]
  },
  {
   "cell_type": "markdown",
   "metadata": {},
   "source": [
    "# *p* = 37, *a* = 1, *b* = 1\n",
    "\n",
    "Then 4a³ + 27b² = 4\\*1³ + 27\\*1³ = 31, and 31 ≠ 0 modulo 37, so the points satisfying the equation form a group under addition."
   ]
  },
  {
   "cell_type": "markdown",
   "metadata": {},
   "source": [
    "## Brute force determining curve points\n",
    "\n",
    "We will just try every possible ordered pair to see which ones satisfy the equation."
   ]
  },
  {
   "cell_type": "code",
   "execution_count": 4,
   "metadata": {
    "collapsed": true
   },
   "outputs": [],
   "source": [
    "def isOnCurve(point, prime, parameters):\n",
    "    (x, y) = point\n",
    "    (a, b) = parameters\n",
    "    \n",
    "    # Does y² = x³ + ax + b modulo prime p?\n",
    "    \n",
    "    leftHandSide = y * y\n",
    "    rightHandSize = x * x * x + a * x + b\n",
    "    \n",
    "    return (leftHandSide - rightHandSize) % prime == 0"
   ]
  },
  {
   "cell_type": "code",
   "execution_count": 5,
   "metadata": {
    "collapsed": false
   },
   "outputs": [],
   "source": [
    "points = []\n",
    "\n",
    "a = 1\n",
    "b = 1\n",
    "prime = 37\n",
    "\n",
    "for x in range(prime):\n",
    "    for y in range(prime):\n",
    "        if isOnCurve((x, y), prime, (a, b)):\n",
    "            points.append((x, y))"
   ]
  },
  {
   "cell_type": "code",
   "execution_count": 6,
   "metadata": {
    "collapsed": false
   },
   "outputs": [
    {
     "data": {
      "text/plain": [
       "[(0, 1),\n",
       " (0, 36),\n",
       " (1, 15),\n",
       " (1, 22),\n",
       " (2, 14),\n",
       " (2, 23),\n",
       " (6, 1),\n",
       " (6, 36),\n",
       " (8, 15),\n",
       " (8, 22),\n",
       " (9, 6),\n",
       " (9, 31),\n",
       " (10, 7),\n",
       " (10, 30),\n",
       " (11, 14),\n",
       " (11, 23),\n",
       " (13, 18),\n",
       " (13, 19),\n",
       " (14, 13),\n",
       " (14, 24),\n",
       " (17, 11),\n",
       " (17, 26),\n",
       " (19, 16),\n",
       " (19, 21),\n",
       " (21, 12),\n",
       " (21, 25),\n",
       " (24, 14),\n",
       " (24, 23),\n",
       " (25, 0),\n",
       " (26, 18),\n",
       " (26, 19),\n",
       " (27, 8),\n",
       " (27, 29),\n",
       " (28, 15),\n",
       " (28, 22),\n",
       " (29, 6),\n",
       " (29, 31),\n",
       " (30, 13),\n",
       " (30, 24),\n",
       " (31, 1),\n",
       " (31, 36),\n",
       " (33, 9),\n",
       " (33, 28),\n",
       " (35, 18),\n",
       " (35, 19),\n",
       " (36, 6),\n",
       " (36, 31)]"
      ]
     },
     "execution_count": 6,
     "metadata": {},
     "output_type": "execute_result"
    }
   ],
   "source": [
    "points"
   ]
  },
  {
   "cell_type": "code",
   "execution_count": 7,
   "metadata": {
    "collapsed": false
   },
   "outputs": [
    {
     "data": {
      "text/plain": [
       "47"
      ]
     },
     "execution_count": 7,
     "metadata": {},
     "output_type": "execute_result"
    }
   ],
   "source": [
    "len(points)"
   ]
  },
  {
   "cell_type": "code",
   "execution_count": null,
   "metadata": {
    "collapsed": true
   },
   "outputs": [],
   "source": []
  }
 ],
 "metadata": {
  "kernelspec": {
   "display_name": "Python 2",
   "language": "python",
   "name": "python2"
  },
  "language_info": {
   "codemirror_mode": {
    "name": "ipython",
    "version": 2
   },
   "file_extension": ".py",
   "mimetype": "text/x-python",
   "name": "python",
   "nbconvert_exporter": "python",
   "pygments_lexer": "ipython2",
   "version": "2.7.11"
  }
 },
 "nbformat": 4,
 "nbformat_minor": 0
}
