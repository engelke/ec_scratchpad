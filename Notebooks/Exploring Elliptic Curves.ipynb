{
 "cells": [
  {
   "cell_type": "markdown",
   "metadata": {},
   "source": [
    "# Exploring Elliptic Curves\n",
    "\n",
    "In normal plane geometric, an *elliptic curve* is the set of points (x, y) that satisfy the equation\n",
    "\n",
    "   y\\*\\*2 = x\\*\\*3 + a\\*x +b\n",
    "   \n",
    "where *a* and *b* are real numbers that define the curve.\n",
    "\n",
    "**Elliptic curves aren't ellipses. Ellipses aren't elliptic curves.*\n",
    "\n",
    "The study of elliptic curves evolved over a long time from the study of the lengths of paths in ellipses, but that history doesn't help understanding what we are doing with elliptic curves today."
   ]
  },
  {
   "cell_type": "markdown",
   "metadata": {},
   "source": [
    "# Points on an Elliptic Curve May Form a Group\n",
    "\n",
    "If there are no repeated roots of the defining equation, then an operation (that we'll call addition)\n",
    "can be defined geometrically. There will be repeated roots if an only if:\n",
    "\n",
    "4\\*a\\*\\*3 + 27\\*b\\*\\*2 = 0\n",
    "\n",
    "Elliptic curves are obviously symmetric about the y-axis, so if *P* = (x, y) is on the curve, so is its reflection *-P* = (x, -y). We define the reflection of a point across the y axis as the arithmetic inverse of the point.\n",
    "\n",
    "Given two points *P* and *Q* on the curve, draw a line connecting them. If there are no repeated roots, this line will intersect the curve in at most one more point *R*. We define *P* + *Q* to be *-R*.\n",
    "\n",
    "*(Why? Bear with us. This approach leads the points on the curve to form a group over this operation.)*\n",
    "\n",
    "There are cases where we can't use this geometric approach for addition. For example, we can't use it to add *P* and *-P*, because the line through them is vertical and never intersects the curve at any other point. To solve this we define an additional \"point on the curve\" called infinity but denoted **O**. This point is the arithmetic identity (so I have no idea why it isn't called zero).\n",
    "\n",
    "So, for any point *P*, we have *P* + **O** = *P*, **O** + *P* = *P*, and *P* + *-P* = **O**.\n",
    "\n",
    "Finally, we can't add a point to itself (double it) with this geometric approach, because the single point doesn't determine a line. Instead we take a tangent to the curve, which will intersect the curve at a single point *R*. That point's inverse *-R* is defined as *P* + *P*.\n",
    "\n",
    "And if the tangent is vertical (so never intersects the curve at another point)? Then *P* + *P* is defined to be **O**."
   ]
  },
  {
   "cell_type": "markdown",
   "metadata": {},
   "source": [
    "# Group Refresher\n",
    "\n",
    "Some quick background. A **group** is a set **S** combined with an operator **op** such that:\n",
    "\n",
    "- there is an identity element **i** such that **i** **op** **e** = **e** = **e** **op** **i** for every element **e** in **S**\n",
    "- every element **e** has an inverse; that is, another element **f** such that **e** **op** **f** = **i** = **f** **op** **e**.\n",
    "\n",
    "Note that the operation does not have to obey the commutive law (**e** **op** **f** == **f** **op** **e**), though if it does, it is called an _abelian_ group."
   ]
  },
  {
   "cell_type": "markdown",
   "metadata": {},
   "source": [
    "### What's purple and commutes? An abelian grape."
   ]
  },
  {
   "cell_type": "markdown",
   "metadata": {},
   "source": [
    "# Formulas for Computing Sums\n",
    "\n",
    "We've defined the additive operation in terms of geometry, but analytic geometry can give us formulas that achieve the same result. Warning: the formulas are in no way intuitive. Just rememe"
   ]
  },
  {
   "cell_type": "code",
   "execution_count": null,
   "metadata": {
    "collapsed": true
   },
   "outputs": [],
   "source": []
  }
 ],
 "metadata": {
  "kernelspec": {
   "display_name": "Python 2",
   "language": "python",
   "name": "python2"
  },
  "language_info": {
   "codemirror_mode": {
    "name": "ipython",
    "version": 2
   },
   "file_extension": ".py",
   "mimetype": "text/x-python",
   "name": "python",
   "nbconvert_exporter": "python",
   "pygments_lexer": "ipython2",
   "version": "2.7.6"
  }
 },
 "nbformat": 4,
 "nbformat_minor": 0
}
