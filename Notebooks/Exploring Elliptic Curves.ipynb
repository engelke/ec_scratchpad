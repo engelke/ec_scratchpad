{
 "cells": [
  {
   "cell_type": "markdown",
   "metadata": {},
   "source": [
    "# Exploring Elliptic Curves\n",
    "\n",
    "In normal plane geometry, an *elliptic curve* is the set of points (x, y) that satisfy the equation\n",
    "\n",
    "    y² = x³ + ax + b\n",
    "   \n",
    "where *a* and *b* are real numbers that define the curve, plus a \"point at infinity\" 𝓞 that is included to address certain special cases that will be discussed below.\n",
    "\n",
    "Here are example of a couple of elliptic curves over the real numbers:\n",
    "\n",
    "![Elliptic curves from WikiMedia commons](https://upload.wikimedia.org/wikipedia/commons/thumb/d/d0/ECClines-3.svg/800px-ECClines-3.svg.png \"Elliptic Curves over the real numbers\")\n",
    "\n",
    "**Elliptic curves aren't ellipses. Ellipses aren't elliptic curves.**\n",
    "\n",
    "The study of elliptic curves evolved over a long time from the study of the lengths of paths in ellipses, but that history doesn't help understanding what we are doing with elliptic curves today."
   ]
  },
  {
   "cell_type": "markdown",
   "metadata": {},
   "source": [
    "# Points on an Elliptic Curve May Form a Group\n",
    "\n",
    "If the curve has no singularities, then an operation (that we'll call addition)\n",
    "can be defined geometrically. The curve will be non-singular if and only if:\n",
    "\n",
    "    4a³ + 27b² ≠ 0.\n",
    "\n",
    "We define the identity element to be \"infinity\", denoted by 𝓞. So, for any point **P**, we have **P** + 𝓞 = **P**, 𝓞 + **P** = **P**, and **P** + **-P** = 𝓞.\n",
    "\n",
    "Elliptic curves are obviously symmetric about the x-axis (that y² term), so if **P** = (x, y) is on the curve, so is its reflection (x, -y). We define the reflection of a point across the x axis as **-P**, the arithmetic inverse of the point **P**, so **P** + **-P** = 𝓞 = **-P** + **P**.\n",
    "\n",
    "Given two points **P** and **Q** on the curve, draw a line connecting them. If the curve is non-singular, this line will intersect the curve in at most one more point **R**. We define **P** + **Q** to be **-R**.\n",
    "\n",
    "*(Why? Bear with us. This approach leads the points on the curve to form a group over this operation.)*\n",
    "\n",
    "There are cases where we can't use this geometric approach for addition. For example, we can't use it to add **P** and **-P**, because the line through them is vertical. But as we've already seen, that sum must be the identity element 𝓞.\n",
    "\n",
    "\n",
    "Finally, we can't add a point to itself (double it) with this geometric approach, because the single point doesn't determine a line. Instead we take a tangent to the curve, which will intersect the curve in at most a single point **R**. That point's inverse **-R** is defined as **P** + **P**. And if the tangent is vertical (so never intersects the curve at another point)? Then **P** + **P** is defined to be 𝓞.\n",
    "\n",
    "The points on an elliptic curve together with this operation form a group."
   ]
  },
  {
   "cell_type": "markdown",
   "metadata": {},
   "source": [
    "# Group Refresher\n",
    "\n",
    "Some quick background. A **group** is a set **S** combined with an operator ***op*** such that:\n",
    "\n",
    "- the set is closed over the operator, that is, **e** ***op*** **f** is another element **g** of the set\n",
    "- there is an identity element **i** such that **i** ***op*** **e** = **e** = **e** ***op*** **i** for every element **e** in **S**\n",
    "- every element **e** has an inverse; that is, another element **f** such that **e** ***op*** **f** = **i** = **f** ***op*** **e**\n",
    "- the operation is associative: (**e** ***op*** **f**) ***op*** **g** = **e** ***op*** (**f** ***op*** **g**)\n",
    "\n",
    "Note that the operation does not have to obey the commutive law (**e** ***op*** **f** == **f** ***op*** **e**), though if it does, it is called an _abelian_ group.\n",
    "\n",
    "You'll see that the integers with addition form a group, as do positive real numbers with multiplication. Groups show up in all kinds of places, and abstracting them out this way helps study their common properties."
   ]
  },
  {
   "cell_type": "markdown",
   "metadata": {},
   "source": [
    "#### *(What's purple and commutes? An abelian grape.)*"
   ]
  },
  {
   "cell_type": "markdown",
   "metadata": {},
   "source": [
    "# Formulas for Computing Sums\n",
    "\n",
    "We've defined the additive operation in terms of geometry, but analytic geometry can give us formulas that achieve the same result. Warning: the formulas are not obvious, but they can be derived with straightforward high school algebra. We won't do that here, though.\n",
    "\n",
    "Why bother with these formulas? Because in the next step we will move from elliptic curves over real numbers to ones over integers modulo a prime number. At that point, the geometric pictures don't help, but the formulas will still retain the same properties that make points on the curve form a group. So here goes:\n",
    "\n",
    "Let\n",
    "\n",
    "**P** = (x₁, y₁)\n",
    "\n",
    "**Q** = (x₂, y₂) \n",
    "    \n",
    "be points on the elliptic curve defined by \n",
    "\n",
    "    y² = x³ + ax + b where 4a³ + 27b² ≠ 0.\n",
    "   \n",
    "Then calculate **R** = (x₃, y₃) = **P** + **Q** as follows:\n",
    "\n",
    "## Case 1: **P** or **Q** is 𝓞\n",
    "\n",
    "In that case, **P** + **Q** is whichever one of **P** or **Q** is not 𝓞 (or 𝓞 if both are 𝓞).\n",
    "\n",
    "## Case 2: **P** + **Q** where **P** = **-Q**\n",
    "\n",
    "That is, x₁ = x₂ and y₁ = -y₂. Or where **P** and **Q** are both 𝓞.\n",
    "\n",
    "Then, by definition, their sum is 𝓞 (which does not have a representation as (x, y).\n",
    "\n",
    "\n",
    "## Case 3: **P** + **Q** where **P** ≠ **-Q**\n",
    "\n",
    "That is, x₁ ≠ x₂.\n",
    "\n",
    "Then calculate the slope **s** of the line between **P** and **Q**:\n",
    "\n",
    "    s = (y₂ - y₁)/(x₂ - x₁)\n",
    "    \n",
    "And you'll eventually get to:\n",
    "\n",
    "    x₃ = s² - x₁ - x₂\n",
    "   \n",
    "and\n",
    "\n",
    "    y₃ = -y₁ + s(x₁ - x₃)\n",
    "    \n",
    "## Case 4: **P** + **P** (doubling **P**)\n",
    "\n",
    "Per case 2, if y₁ = y₂ = 0, then **P** is its own inverse, and added to itself is 𝓞.\n",
    "\n",
    "Otherwise, calculate\n",
    "\n",
    "    s = (3x₁² + a)/(2y₁)\n",
    "    \n",
    "Then\n",
    "\n",
    "    x₃ = s² - 2x₁\n",
    "    \n",
    "and\n",
    "\n",
    "    y₃ = -y₁ + s(x₁ - x₃)\n"
   ]
  },
  {
   "cell_type": "markdown",
   "metadata": {
    "collapsed": true
   },
   "source": [
    "# Moving Away from Real Numbers\n",
    "\n",
    "Now we're going to use the exact same formulas on ordered pairs (x, y) where x and y are integers between 0 and *p*-1, for any odd prime *p*. Do all the arithmetic modulo *p*, and the points on the resulting curves form a group under the addition operator as defined above.\n",
    "\n",
    "These curves are elliptic curves over prime fields (a *field* is an abstract algebra object similar to a group, but with two different operators and a distributive property). It's also possible to operate over fields whose sizes are powers of two, but the arithmetic is more complicated and such curves are less often used.\n",
    "\n",
    "We will explore these curves with some simple examples and Python."
   ]
  },
  {
   "cell_type": "markdown",
   "metadata": {},
   "source": [
    "# *p* = 37, *a* = 1, *b* = 1\n",
    "\n",
    "Then 4a³ + 27b² = 4\\*1³ + 27\\*1³ = 31, and 31 ≠ 0 modulo 37, so the points satisfying the equation form a group under addition."
   ]
  },
  {
   "cell_type": "markdown",
   "metadata": {},
   "source": [
    "## Brute force determining curve points\n",
    "\n",
    "We will just try every possible ordered pair to see which ones satisfy the equation."
   ]
  },
  {
   "cell_type": "code",
   "execution_count": 5,
   "metadata": {
    "collapsed": true
   },
   "outputs": [],
   "source": [
    "def isOnCurve(point, prime, parameters):\n",
    "    (x, y) = point\n",
    "    (a, b) = parameters\n",
    "    \n",
    "    # Does y² = x³ + ax + b modulo prime p?\n",
    "    \n",
    "    leftHandSide = y * y\n",
    "    rightHandSize = x * x * x + a * x + b\n",
    "    \n",
    "    return (leftHandSide - rightHandSize) % prime == 0"
   ]
  },
  {
   "cell_type": "code",
   "execution_count": 6,
   "metadata": {
    "collapsed": false
   },
   "outputs": [],
   "source": [
    "points = []\n",
    "\n",
    "a = 1\n",
    "b = 1\n",
    "prime = 37\n",
    "\n",
    "for x in range(prime):\n",
    "    for y in range(prime):\n",
    "        if isOnCurve((x, y), prime, (a, b)):\n",
    "            points.append((x, y))"
   ]
  },
  {
   "cell_type": "code",
   "execution_count": 7,
   "metadata": {
    "collapsed": false
   },
   "outputs": [
    {
     "data": {
      "text/plain": [
       "[(0, 1),\n",
       " (0, 36),\n",
       " (1, 15),\n",
       " (1, 22),\n",
       " (2, 14),\n",
       " (2, 23),\n",
       " (6, 1),\n",
       " (6, 36),\n",
       " (8, 15),\n",
       " (8, 22),\n",
       " (9, 6),\n",
       " (9, 31),\n",
       " (10, 7),\n",
       " (10, 30),\n",
       " (11, 14),\n",
       " (11, 23),\n",
       " (13, 18),\n",
       " (13, 19),\n",
       " (14, 13),\n",
       " (14, 24),\n",
       " (17, 11),\n",
       " (17, 26),\n",
       " (19, 16),\n",
       " (19, 21),\n",
       " (21, 12),\n",
       " (21, 25),\n",
       " (24, 14),\n",
       " (24, 23),\n",
       " (25, 0),\n",
       " (26, 18),\n",
       " (26, 19),\n",
       " (27, 8),\n",
       " (27, 29),\n",
       " (28, 15),\n",
       " (28, 22),\n",
       " (29, 6),\n",
       " (29, 31),\n",
       " (30, 13),\n",
       " (30, 24),\n",
       " (31, 1),\n",
       " (31, 36),\n",
       " (33, 9),\n",
       " (33, 28),\n",
       " (35, 18),\n",
       " (35, 19),\n",
       " (36, 6),\n",
       " (36, 31)]"
      ]
     },
     "execution_count": 7,
     "metadata": {},
     "output_type": "execute_result"
    }
   ],
   "source": [
    "points"
   ]
  },
  {
   "cell_type": "markdown",
   "metadata": {},
   "source": [
    "Notice that, for every x-coordinate, there are two points, and their y-coordinates are inverses of each other. Consider (27, 8) and (27, 29). 8 + 29 = 37 = 0 (mod 37)."
   ]
  },
  {
   "cell_type": "code",
   "execution_count": 8,
   "metadata": {
    "collapsed": false
   },
   "outputs": [
    {
     "data": {
      "text/plain": [
       "47"
      ]
     },
     "execution_count": 8,
     "metadata": {},
     "output_type": "execute_result"
    }
   ],
   "source": [
    "len(points)"
   ]
  },
  {
   "cell_type": "code",
   "execution_count": 9,
   "metadata": {
    "collapsed": true
   },
   "outputs": [],
   "source": [
    "# Let's let \"𝓞\" stand for 𝓞\n",
    "points.append(\"𝓞\")"
   ]
  },
  {
   "cell_type": "markdown",
   "metadata": {},
   "source": [
    "We will define an addition method using the formulas from above, but there's a problem: the formulas use division and we're supposed to stick to integers between 0 and p-1. But realize that division is just multiplication by the multiplicative inverse (reciprocal). Every non-zero number n between 1 and p-1 has a reciprocal r modulo p, that is, an integer r such that n * r = 1 (mod p).\n",
    "\n",
    "We define a method to calculate this is the most inefficient way possible: brute force."
   ]
  },
  {
   "cell_type": "code",
   "execution_count": 10,
   "metadata": {
    "collapsed": false
   },
   "outputs": [],
   "source": [
    "def reciprocal(n, prime):\n",
    "    for r in range(prime):\n",
    "        if (n * r) % prime == 1:\n",
    "            return r\n",
    "    raise StandardError(\"%s has no inverse modulo %s\" % (n, prime))"
   ]
  },
  {
   "cell_type": "code",
   "execution_count": 11,
   "metadata": {
    "collapsed": true
   },
   "outputs": [],
   "source": [
    "def add(P, Q, prime, parameters):\n",
    "    if P == \"𝓞\":\n",
    "        return Q\n",
    "    if Q == \"𝓞\":\n",
    "        return P\n",
    "    \n",
    "    (x1, y1) = P\n",
    "    (x2, y2) = Q\n",
    "    (a, b) = parameters\n",
    "    \n",
    "    if (x1 == x2) and (y1 + y2) % prime == 0: # Points are inverses of each other\n",
    "        return \"𝓞\"\n",
    "    \n",
    "    if (x1 == x2) and (y1 == y2): # P = Q, so doubling\n",
    "        s = (3 * x1 * x1 + a) * reciprocal(2 * y1, prime)\n",
    "        x3 = s * s - 2 * x1\n",
    "        y3 = -y1 + s * (x1 - x3)\n",
    "        return (x3 % prime, y3 % prime)\n",
    "    \n",
    "    s = (y2 - y1) * reciprocal(x2 - x1, prime)\n",
    "    x3 = s * s - x1 - x2\n",
    "    y3 = -y1 + s * (x1 - x3)\n",
    "    return (x3 % prime, y3 % prime)"
   ]
  },
  {
   "cell_type": "code",
   "execution_count": 24,
   "metadata": {
    "collapsed": false
   },
   "outputs": [
    {
     "data": {
      "text/plain": [
       "(33, 9)"
      ]
     },
     "execution_count": 24,
     "metadata": {},
     "output_type": "execute_result"
    }
   ],
   "source": [
    "sum = add ((36,6), (30,13), 37, (1, 1))\n",
    "sum"
   ]
  },
  {
   "cell_type": "markdown",
   "metadata": {
    "collapsed": true
   },
   "source": [
    "## Test that addition is closed"
   ]
  },
  {
   "cell_type": "code",
   "execution_count": 26,
   "metadata": {
    "collapsed": false
   },
   "outputs": [
    {
     "name": "stdout",
     "output_type": "stream",
     "text": [
      "All checked.\n"
     ]
    }
   ],
   "source": [
    "for P in points:\n",
    "    for Q in points:\n",
    "        R = add(P, Q, 37, (1, 1))\n",
    "        if R not in points:\n",
    "            print \"Not closed: %s + %s = %s\" % (P, Q, R)\n",
    "print \"All checked.\""
   ]
  },
  {
   "cell_type": "markdown",
   "metadata": {
    "collapsed": true
   },
   "source": [
    "# Generators"
   ]
  },
  {
   "cell_type": "markdown",
   "metadata": {},
   "source": [
    "A point on an elliptic curve generates a subgroup consisting of the point, the point \n",
    "plus itself, that point plus the original point, and so on. Since there are a finite\n",
    "number of points on the curve, this must eventually yield the original point."
   ]
  },
  {
   "cell_type": "code",
   "execution_count": 25,
   "metadata": {
    "collapsed": false
   },
   "outputs": [
    {
     "data": {
      "text/plain": [
       "(21, 12)"
      ]
     },
     "execution_count": 25,
     "metadata": {},
     "output_type": "execute_result"
    }
   ],
   "source": [
    "G = (21, 12)\n",
    "G"
   ]
  },
  {
   "cell_type": "code",
   "execution_count": 17,
   "metadata": {
    "collapsed": false
   },
   "outputs": [],
   "source": [
    "generated = {G}"
   ]
  },
  {
   "cell_type": "code",
   "execution_count": 20,
   "metadata": {
    "collapsed": false
   },
   "outputs": [],
   "source": [
    "next = add(G, G, 37, (1, 1))\n",
    "while next not in generated:\n",
    "    generated.add(next)\n",
    "    next = add(next, G, 37, (1, 1))"
   ]
  },
  {
   "cell_type": "code",
   "execution_count": 21,
   "metadata": {
    "collapsed": false
   },
   "outputs": [
    {
     "data": {
      "text/plain": [
       "{'\\xf0\\x9d\\x93\\x9e',\n",
       " (0, 1),\n",
       " (0, 36),\n",
       " (9, 6),\n",
       " (9, 31),\n",
       " (21, 12),\n",
       " (21, 25),\n",
       " (25, 0),\n",
       " (28, 15),\n",
       " (28, 22),\n",
       " (35, 18),\n",
       " (35, 19)}"
      ]
     },
     "execution_count": 21,
     "metadata": {},
     "output_type": "execute_result"
    }
   ],
   "source": [
    "generated"
   ]
  },
  {
   "cell_type": "code",
   "execution_count": 22,
   "metadata": {
    "collapsed": false
   },
   "outputs": [
    {
     "data": {
      "text/plain": [
       "12"
      ]
     },
     "execution_count": 22,
     "metadata": {},
     "output_type": "execute_result"
    }
   ],
   "source": [
    "len(generated)"
   ]
  },
  {
   "cell_type": "code",
   "execution_count": 24,
   "metadata": {
    "collapsed": false
   },
   "outputs": [
    {
     "data": {
      "text/plain": [
       "48"
      ]
     },
     "execution_count": 24,
     "metadata": {},
     "output_type": "execute_result"
    }
   ],
   "source": [
    "len(points)"
   ]
  },
  {
   "cell_type": "markdown",
   "metadata": {},
   "source": [
    "We define the *order* of the *generator* **G** as the number of points it generates (12 in this case), and the *cofactor* **h** of G to be the size of the curve divided by the order (48 / 12 = 4 in this case)."
   ]
  },
  {
   "cell_type": "code",
   "execution_count": 30,
   "metadata": {
    "collapsed": false
   },
   "outputs": [
    {
     "data": {
      "text/plain": [
       "({'\\xf0\\x9d\\x93\\x9e',\n",
       "  (0, 1),\n",
       "  (0, 36),\n",
       "  (1, 15),\n",
       "  (1, 22),\n",
       "  (2, 14),\n",
       "  (2, 23),\n",
       "  (6, 1),\n",
       "  (6, 36),\n",
       "  (8, 15),\n",
       "  (8, 22),\n",
       "  (9, 6),\n",
       "  (9, 31),\n",
       "  (10, 7),\n",
       "  (10, 30),\n",
       "  (11, 14),\n",
       "  (11, 23),\n",
       "  (13, 18),\n",
       "  (13, 19),\n",
       "  (14, 13),\n",
       "  (14, 24),\n",
       "  (17, 11),\n",
       "  (17, 26),\n",
       "  (19, 16),\n",
       "  (19, 21),\n",
       "  (21, 12),\n",
       "  (21, 25),\n",
       "  (24, 14),\n",
       "  (24, 23),\n",
       "  (25, 0),\n",
       "  (26, 18),\n",
       "  (26, 19),\n",
       "  (27, 8),\n",
       "  (27, 29),\n",
       "  (28, 15),\n",
       "  (28, 22),\n",
       "  (29, 6),\n",
       "  (29, 31),\n",
       "  (30, 13),\n",
       "  (30, 24),\n",
       "  (31, 1),\n",
       "  (31, 36),\n",
       "  (33, 9),\n",
       "  (33, 28),\n",
       "  (35, 18),\n",
       "  (35, 19),\n",
       "  (36, 6),\n",
       "  (36, 31)},\n",
       " 48)"
      ]
     },
     "execution_count": 30,
     "metadata": {},
     "output_type": "execute_result"
    }
   ],
   "source": [
    "G = (17, 26)\n",
    "generated = {G}\n",
    "next = add(G, G, 37, (1, 1))\n",
    "while next not in generated:\n",
    "    generated.add(next)\n",
    "    next = add(next, G, 37, (1, 1))\n",
    "generated, len(generated)"
   ]
  },
  {
   "cell_type": "markdown",
   "metadata": {},
   "source": [
    "In this second case, the point chosen for the generator has order 48, so the cofactor h is 1. For elliptic curve cryptography we will usually want to choose a generator with cofactor 1"
   ]
  },
  {
   "cell_type": "markdown",
   "metadata": {},
   "source": [
    "# Elliptic Curve Cryptography"
   ]
  },
  {
   "cell_type": "markdown",
   "metadata": {},
   "source": [
    "For two parties to use elliptic curve cryptography they must first agree on **domain parameters**. These parameters are not secret, and define an elliptic curve (values for the prime, and parameters a and b), a generator **G**, and the order **n** and cofactor **h** of the generator in the curve.\n",
    "\n",
    "For the next examples, we will continue to use the values we selected above: (p, a, b, G, n, h) are (37, 1, 1, (17, 26), 48, 1)."
   ]
  },
  {
   "cell_type": "markdown",
   "metadata": {},
   "source": [
    "Next, each party (let's call them Alice and Bob) must select a *private key*. For ECC, a private key is just an integer **d** between 1 and **n**.\n",
    "\n",
    "Let's suppose Alice selects 22 and Bob selects 15 as their private keys.\n",
    "\n",
    "Now each party calculates their public keys, which are **dG** (that is, the generator **G** added to itself **d** times)."
   ]
  },
  {
   "cell_type": "code",
   "execution_count": 33,
   "metadata": {
    "collapsed": true
   },
   "outputs": [],
   "source": [
    "def publicKey(p, a, b, G, d):\n",
    "    start = G\n",
    "    for i in range(d):\n",
    "        start = add(G, start, p, (a, b))\n",
    "    return start"
   ]
  },
  {
   "cell_type": "code",
   "execution_count": 34,
   "metadata": {
    "collapsed": false
   },
   "outputs": [
    {
     "data": {
      "text/plain": [
       "((31, 36), (9, 6))"
      ]
     },
     "execution_count": 34,
     "metadata": {},
     "output_type": "execute_result"
    }
   ],
   "source": [
    "publicKey(37, 1, 1, (17, 26), 22), publicKey(37, 1, 1, (17, 26), 15)"
   ]
  },
  {
   "cell_type": "markdown",
   "metadata": {},
   "source": [
    "So Alice's private key is 22 and her public key is therefore (31, 36).\n",
    "Bob's private key is 15 and resulting public key is (9, 6).\n",
    "\n",
    "They core foundation of this scheme is something that is hard to realize with such a simple example: *given a public key (and domain parameters) it is extremely hard to figure out the private key*."
   ]
  },
  {
   "cell_type": "markdown",
   "metadata": {},
   "source": [
    "# EC Diffie Hellman Key Exchange"
   ]
  },
  {
   "cell_type": "markdown",
   "metadata": {},
   "source": [
    "Now we're ready to do some secret communicating. The first method is Diffie-Hellman Key Exchange (ECDH).\n",
    "It's shockingly simple given all that's covered above.\n",
    "\n",
    "Alice and Bob agree on domain parameters (p, a, b, G, n, h) and each create private keys **d₁** and **d₂** and calculate public keys **Q₁** and **Q₂**from them. They tell each other their public keys, not worrying about eavesdroppers because those keys aren't secret.\n",
    "\n",
    "Alice calculates **d₁Q₂** and Bob calculates **d₂Q₁**, each using their own private key. Nobody else could calculate those values.\n",
    "\n",
    "But those are the same values because of how the private keys were calculated:\n",
    "\n",
    "**d₁Q₂** = **d₁d₂G** = **d₂d₁G** = **d₂Q₁**\n",
    "\n",
    "Alice and Bob have established a shared secret point using information communicated in public. Cryptography tends to use integers, not points, so Alice and Bob actually use the x-coordinate of their calculated points as the shared secret, and can derive symmetric keys from it in a variety of ways using hashing algorithms."
   ]
  },
  {
   "cell_type": "markdown",
   "metadata": {},
   "source": [
    "# Real World Curves\n",
    "\n",
    "It's not practical for everyone to create their own domain parameters, and many selected choices would likely not be as secure as we'd like, so cryptographers have established specific named curves people can work with. NIST has recommended five of them, and the Web Cryptography API references three of those: P-256, P-384, and P-521.\n",
    "\n",
    "All three curves based on the formula y² = x³ - 3x + b (so the parameter a we've been using is always -3). The remaining domain parameters we need for ECDH are p, b, G, n, and h. The order **n** for the selected curves is always prime, so the cofactor must be 1.\n",
    "\n",
    "## Example: P-256\n",
    "\n",
    "    p = 115792089210356248762697446949407573530086143415290314195533631308867097853951 (decimal)\n",
    "    n = 115792089210356248762697446949407573529996955224135760342422259061068512044369 (decimal)\n",
    "    b = 5ac635d8 aa3a93e7 b3ebbd55 769886bc 651d06b0 cc53b0f6 3bce3c3e 27d2604b (hex)\n",
    "    G = (6b17d1f2 e12c4247 f8bce6e5 63a440f2 77037d81 2deb33a0 f4a13945 d898c296,\n",
    "         4fe342e2 fe1a7f9b 8ee7eb4a 7c0f9e16 2bce3357 6b315ece cbb64068 37bf51f5) (hex)"
   ]
  },
  {
   "cell_type": "code",
   "execution_count": null,
   "metadata": {
    "collapsed": true
   },
   "outputs": [],
   "source": []
  }
 ],
 "metadata": {
  "kernelspec": {
   "display_name": "Python 2",
   "language": "python",
   "name": "python2"
  },
  "language_info": {
   "codemirror_mode": {
    "name": "ipython",
    "version": 2
   },
   "file_extension": ".py",
   "mimetype": "text/x-python",
   "name": "python",
   "nbconvert_exporter": "python",
   "pygments_lexer": "ipython2",
   "version": "2.7.6"
  }
 },
 "nbformat": 4,
 "nbformat_minor": 0
}
