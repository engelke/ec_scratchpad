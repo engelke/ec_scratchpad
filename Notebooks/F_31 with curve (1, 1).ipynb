{
 "cells": [
  {
   "cell_type": "code",
   "execution_count": 1,
   "metadata": {
    "collapsed": true
   },
   "outputs": [],
   "source": [
    "curve = (31, (1, 1))"
   ]
  },
  {
   "cell_type": "code",
   "execution_count": 3,
   "metadata": {
    "collapsed": false
   },
   "outputs": [],
   "source": [
    "def point_in_curve(point, curve):\n",
    "    (x, y) = point\n",
    "    (p, (a, b)) = curve\n",
    "    return (x*x*x + a*x + b - y*y) % p == 0"
   ]
  },
  {
   "cell_type": "code",
   "execution_count": 5,
   "metadata": {
    "collapsed": false
   },
   "outputs": [],
   "source": [
    "points = []\n",
    "for x in range(curve[0]):\n",
    "    for y in range(curve[0]):\n",
    "        if point_in_curve((x, y), curve):\n",
    "            points.append((x, y))"
   ]
  },
  {
   "cell_type": "code",
   "execution_count": 6,
   "metadata": {
    "collapsed": false
   },
   "outputs": [
    {
     "data": {
      "text/plain": [
       "[(0, 1),\n",
       " (0, 30),\n",
       " (3, 0),\n",
       " (4, 10),\n",
       " (4, 21),\n",
       " (5, 10),\n",
       " (5, 21),\n",
       " (7, 14),\n",
       " (7, 17),\n",
       " (8, 5),\n",
       " (8, 26),\n",
       " (10, 9),\n",
       " (10, 22),\n",
       " (11, 14),\n",
       " (11, 17),\n",
       " (12, 6),\n",
       " (12, 25),\n",
       " (13, 14),\n",
       " (13, 17),\n",
       " (14, 0),\n",
       " (17, 8),\n",
       " (17, 23),\n",
       " (19, 11),\n",
       " (19, 20),\n",
       " (21, 13),\n",
       " (21, 18),\n",
       " (22, 10),\n",
       " (22, 21),\n",
       " (23, 15),\n",
       " (23, 16),\n",
       " (28, 8),\n",
       " (28, 23)]"
      ]
     },
     "execution_count": 6,
     "metadata": {},
     "output_type": "execute_result"
    }
   ],
   "source": [
    "points"
   ]
  },
  {
   "cell_type": "code",
   "execution_count": 7,
   "metadata": {
    "collapsed": false
   },
   "outputs": [
    {
     "data": {
      "text/plain": [
       "32"
      ]
     },
     "execution_count": 7,
     "metadata": {},
     "output_type": "execute_result"
    }
   ],
   "source": [
    "len(points)"
   ]
  },
  {
   "cell_type": "code",
   "execution_count": 20,
   "metadata": {
    "collapsed": false
   },
   "outputs": [],
   "source": [
    "def add(point1, point2, curve):\n",
    "    (x1, y1) = point1\n",
    "    (x2, y2) = point2\n",
    "    (p, (a, b)) = curve\n",
    "    \n",
    "    if x1 == x2:\n",
    "        if (y1 != y2) or y1 == 0:\n",
    "            return (x1, y1 + y2)\n",
    "        else:\n",
    "            return double(point1, curve)\n",
    "    else:\n",
    "        l = ((y2 - y1) * inverse(x2 - x1, p)) % p\n",
    "        x3 = (l * l - x1 - x2) % p\n",
    "        y3 = (l * (x1 - x3) - y1) % p\n",
    "        return (x3, y3)"
   ]
  },
  {
   "cell_type": "code",
   "execution_count": 13,
   "metadata": {
    "collapsed": true
   },
   "outputs": [],
   "source": [
    "def inverse(x, p):\n",
    "    for i in range(p):\n",
    "        if (i * x) % p == 1:\n",
    "            return i\n",
    "    raise"
   ]
  },
  {
   "cell_type": "code",
   "execution_count": 22,
   "metadata": {
    "collapsed": true
   },
   "outputs": [],
   "source": [
    "def double(point, curve):\n",
    "    (x, y) = point\n",
    "    (p, (a, b)) = curve\n",
    "    \n",
    "    l = ((3 * x * x + a) * inverse(2 * y, p)) % p\n",
    "    result_x = (l * l - 2 * x) % p\n",
    "    result_y = (l * (x - result_x) - y) % p\n",
    "    return (result_x, result_y)"
   ]
  },
  {
   "cell_type": "code",
   "execution_count": 16,
   "metadata": {
    "collapsed": false
   },
   "outputs": [
    {
     "data": {
      "text/plain": [
       "21"
      ]
     },
     "execution_count": 16,
     "metadata": {},
     "output_type": "execute_result"
    }
   ],
   "source": [
    "inverse(3, 31)"
   ]
  },
  {
   "cell_type": "code",
   "execution_count": 17,
   "metadata": {
    "collapsed": false
   },
   "outputs": [
    {
     "data": {
      "text/plain": [
       "(22, 21)"
      ]
     },
     "execution_count": 17,
     "metadata": {},
     "output_type": "execute_result"
    }
   ],
   "source": [
    "add((19, 11), (28, 8), (31, (1, 1)))"
   ]
  },
  {
   "cell_type": "code",
   "execution_count": 23,
   "metadata": {
    "collapsed": false
   },
   "outputs": [
    {
     "data": {
      "text/plain": [
       "(11, 14)"
      ]
     },
     "execution_count": 23,
     "metadata": {},
     "output_type": "execute_result"
    }
   ],
   "source": [
    "add((19, 11), (19, 11), (31, (1, 1)))"
   ]
  },
  {
   "cell_type": "code",
   "execution_count": 28,
   "metadata": {
    "collapsed": true
   },
   "outputs": [],
   "source": [
    "def order(point, curve):\n",
    "    points = []\n",
    "    next = point\n",
    "    for n in range(curve[0]):\n",
    "        next = add(next, point, curve)\n",
    "        if next in points:\n",
    "            return n + 1\n",
    "        points.append(next)\n",
    "    return 0"
   ]
  },
  {
   "cell_type": "code",
   "execution_count": 32,
   "metadata": {
    "collapsed": false
   },
   "outputs": [
    {
     "data": {
      "text/plain": [
       "0"
      ]
     },
     "execution_count": 32,
     "metadata": {},
     "output_type": "execute_result"
    }
   ],
   "source": [
    "order((0, 1), (31, (1, 1)))"
   ]
  },
  {
   "cell_type": "code",
   "execution_count": 31,
   "metadata": {
    "collapsed": false
   },
   "outputs": [
    {
     "data": {
      "text/plain": [
       "[(0, 1),\n",
       " (0, 30),\n",
       " (3, 0),\n",
       " (4, 10),\n",
       " (4, 21),\n",
       " (5, 10),\n",
       " (5, 21),\n",
       " (7, 14),\n",
       " (7, 17),\n",
       " (8, 5),\n",
       " (8, 26),\n",
       " (10, 9),\n",
       " (10, 22),\n",
       " (11, 14),\n",
       " (11, 17),\n",
       " (12, 6),\n",
       " (12, 25),\n",
       " (13, 14),\n",
       " (13, 17),\n",
       " (14, 0),\n",
       " (17, 8),\n",
       " (17, 23),\n",
       " (19, 11),\n",
       " (19, 20),\n",
       " (21, 13),\n",
       " (21, 18),\n",
       " (22, 10),\n",
       " (22, 21),\n",
       " (23, 15),\n",
       " (23, 16),\n",
       " (28, 8),\n",
       " (28, 23)]"
      ]
     },
     "execution_count": 31,
     "metadata": {},
     "output_type": "execute_result"
    }
   ],
   "source": [
    "points"
   ]
  },
  {
   "cell_type": "code",
   "execution_count": 30,
   "metadata": {
    "collapsed": false
   },
   "outputs": [
    {
     "name": "stdout",
     "output_type": "stream",
     "text": [
      "(0, 1) 0\n",
      "(0, 30) 0\n",
      "(3, 0) 2\n",
      "(4, 10) 0\n",
      "(4, 21) 0\n",
      "(5, 10) 0\n",
      "(5, 21) 0\n",
      "(7, 14) 0\n",
      "(7, 17) 0\n",
      "(8, 5) 0\n",
      "(8, 26) 0\n",
      "(10, 9) 0\n",
      "(10, 22) 0\n",
      "(11, 14) 0\n",
      "(11, 17) 0\n",
      "(12, 6) 0\n",
      "(12, 25) 0\n",
      "(13, 14) 0\n",
      "(13, 17) 0\n",
      "(14, 0) 2\n",
      "(17, 8) 0\n",
      "(17, 23) 0\n",
      "(19, 11) 0\n",
      "(19, 20) 0\n",
      "(21, 13) 0\n",
      "(21, 18) 0\n",
      "(22, 10) 0\n",
      "(22, 21) 0\n",
      "(23, 15) 0\n",
      "(23, 16) 0\n",
      "(28, 8) 0\n",
      "(28, 23) 0\n"
     ]
    }
   ],
   "source": [
    "for point in points:\n",
    "    print point, order(point, (31, (1, 1)))"
   ]
  },
  {
   "cell_type": "code",
   "execution_count": 33,
   "metadata": {
    "collapsed": false
   },
   "outputs": [
    {
     "data": {
      "text/plain": [
       "(14, 0)"
      ]
     },
     "execution_count": 33,
     "metadata": {},
     "output_type": "execute_result"
    }
   ],
   "source": [
    "add((14, 0), (14, 0), (31, (1, 1)))"
   ]
  },
  {
   "cell_type": "code",
   "execution_count": null,
   "metadata": {
    "collapsed": true
   },
   "outputs": [],
   "source": []
  }
 ],
 "metadata": {
  "kernelspec": {
   "display_name": "Python 2",
   "language": "python",
   "name": "python2"
  },
  "language_info": {
   "codemirror_mode": {
    "name": "ipython",
    "version": 2
   },
   "file_extension": ".py",
   "mimetype": "text/x-python",
   "name": "python",
   "nbconvert_exporter": "python",
   "pygments_lexer": "ipython2",
   "version": "2.7.6"
  }
 },
 "nbformat": 4,
 "nbformat_minor": 0
}
